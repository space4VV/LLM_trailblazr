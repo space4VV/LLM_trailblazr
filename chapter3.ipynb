{
  "nbformat": 4,
  "nbformat_minor": 0,
  "metadata": {
    "colab": {
      "provenance": [],
      "authorship_tag": "ABX9TyN3gS60l6fUFsGulxL/CumO",
      "include_colab_link": true
    },
    "kernelspec": {
      "name": "python3",
      "display_name": "Python 3"
    },
    "language_info": {
      "name": "python"
    }
  },
  "cells": [
    {
      "cell_type": "markdown",
      "metadata": {
        "id": "view-in-github",
        "colab_type": "text"
      },
      "source": [
        "<a href=\"https://colab.research.google.com/github/space4VV/LLM_trailblazr/blob/main/chapter3.ipynb\" target=\"_parent\"><img src=\"https://colab.research.google.com/assets/colab-badge.svg\" alt=\"Open In Colab\"/></a>"
      ]
    },
    {
      "cell_type": "code",
      "execution_count": 1,
      "metadata": {
        "colab": {
          "base_uri": "https://localhost:8080/"
        },
        "id": "AyfOqckmWup9",
        "outputId": "f296c392-4003-4ccb-b512-dca0371256e2"
      },
      "outputs": [
        {
          "output_type": "stream",
          "name": "stdout",
          "text": [
            "2.4.1+cu121\n"
          ]
        }
      ],
      "source": [
        "#print torch version\n",
        "import torch\n",
        "print(torch.__version__)\n"
      ]
    },
    {
      "cell_type": "code",
      "source": [
        "import torch\n",
        "inputs = torch.tensor(\n",
        "   [[0.43, 0.15, 0.89], # Your     (x^1)\n",
        "   [0.55, 0.87, 0.66], # journey  (x^2)\n",
        "   [0.57, 0.85, 0.64], # starts   (x^3)\n",
        "   [0.22, 0.58, 0.33], # with     (x^4)\n",
        "   [0.77, 0.25, 0.10], # one      (x^5)\n",
        "   [0.05, 0.80, 0.55]] # step     (x^6)\n",
        ")\n",
        "print(inputs)"
      ],
      "metadata": {
        "colab": {
          "base_uri": "https://localhost:8080/"
        },
        "id": "dLU_e8s9X5t8",
        "outputId": "c9021e08-257d-4507-a604-792f6a6117e9"
      },
      "execution_count": 2,
      "outputs": [
        {
          "output_type": "stream",
          "name": "stdout",
          "text": [
            "tensor([[0.4300, 0.1500, 0.8900],\n",
            "        [0.5500, 0.8700, 0.6600],\n",
            "        [0.5700, 0.8500, 0.6400],\n",
            "        [0.2200, 0.5800, 0.3300],\n",
            "        [0.7700, 0.2500, 0.1000],\n",
            "        [0.0500, 0.8000, 0.5500]])\n"
          ]
        }
      ]
    },
    {
      "cell_type": "markdown",
      "source": [
        "- We use input sequence element 2, as an example to compute context vector z\n",
        "- The context vector is \"context\"-specific to a certain input\n"
      ],
      "metadata": {
        "id": "LwRyGdElZcM5"
      }
    },
    {
      "cell_type": "code",
      "source": [],
      "metadata": {
        "id": "vUrWNpwvF7lK"
      },
      "execution_count": null,
      "outputs": []
    },
    {
      "cell_type": "markdown",
      "source": [
        "# Compute the attention weights and context vector for input 2\n",
        "\n"
      ],
      "metadata": {
        "id": "Ag4BtWZZJuu7"
      }
    },
    {
      "cell_type": "markdown",
      "source": [
        "## Step 1 - compute the unnormalized attention scores by computing the dot product between the query and all other input tokens:\n"
      ],
      "metadata": {
        "id": "_YXV3S79F8f5"
      }
    },
    {
      "cell_type": "code",
      "source": [
        "query = inputs[1]\n",
        "print(query)\n",
        "attn_scores_2 = torch.empty(inputs.shape[0])\n",
        "for i, x_i in enumerate(inputs):\n",
        "    attn_scores_2[i] = torch.dot(x_i,query)\n",
        "print(attn_scores_2)"
      ],
      "metadata": {
        "colab": {
          "base_uri": "https://localhost:8080/"
        },
        "id": "XnQsY4D8Y-m8",
        "outputId": "ad127d4a-6613-4ad7-d461-7c91158fbaf7"
      },
      "execution_count": 4,
      "outputs": [
        {
          "output_type": "stream",
          "name": "stdout",
          "text": [
            "tensor([0.5500, 0.8700, 0.6600])\n",
            "tensor([0.9544, 1.4950, 1.4754, 0.8434, 0.7070, 1.0865])\n"
          ]
        }
      ]
    },
    {
      "cell_type": "markdown",
      "source": [
        "## Step 2 - Normalize the attention scores so that they sum upto 1\n"
      ],
      "metadata": {
        "id": "yUeOusvJGINn"
      }
    },
    {
      "cell_type": "code",
      "source": [
        "attn_weights_2_tmp = attn_scores_2 /attn_scores_2.sum()\n",
        "print(attn_weights_2_tmp)\n",
        "print(\"sum of attn scores:\",attn_weights_2_tmp.sum())\n",
        "\n"
      ],
      "metadata": {
        "id": "dRizBLuiaG_A",
        "colab": {
          "base_uri": "https://localhost:8080/"
        },
        "outputId": "5e605df6-85d5-4a69-fad0-b9b3630790f9"
      },
      "execution_count": 5,
      "outputs": [
        {
          "output_type": "stream",
          "name": "stdout",
          "text": [
            "tensor([0.1455, 0.2278, 0.2249, 0.1285, 0.1077, 0.1656])\n",
            "sum of attn scores: tensor(1.0000)\n"
          ]
        }
      ]
    },
    {
      "cell_type": "markdown",
      "source": [
        "However, in practice, using the softmax function for normalization, which is better at handling extreme values and has more desirable gradient properties during training, is common and recommended."
      ],
      "metadata": {
        "id": "lDGTzL64Elry"
      }
    },
    {
      "cell_type": "code",
      "source": [
        "# naive softmax\n",
        "def softmax_naive(x):\n",
        "  return torch.exp(x) / torch.exp(x).sum(dim=0)\n",
        "attn_weights_2_naive = softmax_naive(attn_scores_2)\n",
        "print(attn_weights_2_naive)\n",
        "print(\"sum of attn scores:\",attn_weights_2_naive.sum())\n"
      ],
      "metadata": {
        "colab": {
          "base_uri": "https://localhost:8080/"
        },
        "id": "jZdzrHoHEIpT",
        "outputId": "8147344b-f844-494c-a212-295d2bda17a4"
      },
      "execution_count": 7,
      "outputs": [
        {
          "output_type": "stream",
          "name": "stdout",
          "text": [
            "tensor([0.1385, 0.2379, 0.2333, 0.1240, 0.1082, 0.1581])\n",
            "sum of attn scores: tensor(1.)\n"
          ]
        }
      ]
    },
    {
      "cell_type": "code",
      "source": [
        "# in practice its better to use the one from torch directly\n",
        "atten_weights_2 = torch.softmax(attn_scores_2, dim=0)\n",
        "print(atten_weights_2)\n",
        "print(\"sum of attn scores:\",atten_weights_2.sum())\n"
      ],
      "metadata": {
        "colab": {
          "base_uri": "https://localhost:8080/"
        },
        "id": "ne4ZY7GCE_Qu",
        "outputId": "c1cd876e-a02f-4629-abc0-531dcdec2d29"
      },
      "execution_count": 8,
      "outputs": [
        {
          "output_type": "stream",
          "name": "stdout",
          "text": [
            "tensor([0.1385, 0.2379, 0.2333, 0.1240, 0.1082, 0.1581])\n",
            "sum of attn scores: tensor(1.)\n"
          ]
        }
      ]
    },
    {
      "cell_type": "markdown",
      "source": [
        "## Step 3 - compute the context vector by multiplying the embedded input tokens, with the attention weights and sum the resulting vectors"
      ],
      "metadata": {
        "id": "HnZFPE6DGMtz"
      }
    },
    {
      "cell_type": "code",
      "source": [
        "print(\"inputs:\",inputs)\n",
        "print(\"attention_weights\",atten_weights_2)\n",
        "query =  inputs[1] # 2nd token is the query\n",
        "context_vec_2  = torch.zeros(query.shape)\n",
        "for i, x_i in enumerate(inputs):\n",
        "    context_vec_2 += atten_weights_2[i] * x_i\n",
        "print(\"context_vector -\",context_vec_2)"
      ],
      "metadata": {
        "colab": {
          "base_uri": "https://localhost:8080/"
        },
        "id": "O0XGukxEF2Cx",
        "outputId": "3b883873-6042-44bb-abef-504b683a4dd9"
      },
      "execution_count": 13,
      "outputs": [
        {
          "output_type": "stream",
          "name": "stdout",
          "text": [
            "inputs: tensor([[0.4300, 0.1500, 0.8900],\n",
            "        [0.5500, 0.8700, 0.6600],\n",
            "        [0.5700, 0.8500, 0.6400],\n",
            "        [0.2200, 0.5800, 0.3300],\n",
            "        [0.7700, 0.2500, 0.1000],\n",
            "        [0.0500, 0.8000, 0.5500]])\n",
            "attention_weights tensor([0.1385, 0.2379, 0.2333, 0.1240, 0.1082, 0.1581])\n",
            "context_vector - tensor([0.4419, 0.6515, 0.5683])\n"
          ]
        }
      ]
    },
    {
      "cell_type": "markdown",
      "source": [
        "# Compute all attention weights and context vectors"
      ],
      "metadata": {
        "id": "wfBgF-hUJ1t1"
      }
    },
    {
      "cell_type": "code",
      "source": [
        "attn_scores = torch.empty((inputs.shape[0], inputs.shape[0]))\n",
        "for i, x_i in enumerate(inputs):\n",
        "    for j, x_j in enumerate(inputs):\n",
        "        attn_scores[i, j] = torch.dot(x_i, x_j)\n",
        "print(attn_scores)"
      ],
      "metadata": {
        "colab": {
          "base_uri": "https://localhost:8080/"
        },
        "id": "M3ub7M7tHIk_",
        "outputId": "58ad751b-c5c3-4312-ec8e-0b2afd762516"
      },
      "execution_count": 15,
      "outputs": [
        {
          "output_type": "stream",
          "name": "stdout",
          "text": [
            "tensor([[0.9995, 0.9544, 0.9422, 0.4753, 0.4576, 0.6310],\n",
            "        [0.9544, 1.4950, 1.4754, 0.8434, 0.7070, 1.0865],\n",
            "        [0.9422, 1.4754, 1.4570, 0.8296, 0.7154, 1.0605],\n",
            "        [0.4753, 0.8434, 0.8296, 0.4937, 0.3474, 0.6565],\n",
            "        [0.4576, 0.7070, 0.7154, 0.3474, 0.6654, 0.2935],\n",
            "        [0.6310, 1.0865, 1.0605, 0.6565, 0.2935, 0.9450]])\n"
          ]
        }
      ]
    },
    {
      "cell_type": "code",
      "source": [
        "# matric multiplication vs the above for loops to improve the performance\n",
        "attn_scores = inputs @ inputs.T\n",
        "print(attn_scores)"
      ],
      "metadata": {
        "colab": {
          "base_uri": "https://localhost:8080/"
        },
        "id": "RbJyuP-aNEDK",
        "outputId": "b085e9fa-7ab1-457d-ffc2-45d97d5d5e0e"
      },
      "execution_count": 17,
      "outputs": [
        {
          "output_type": "stream",
          "name": "stdout",
          "text": [
            "tensor([[0.9995, 0.9544, 0.9422, 0.4753, 0.4576, 0.6310],\n",
            "        [0.9544, 1.4950, 1.4754, 0.8434, 0.7070, 1.0865],\n",
            "        [0.9422, 1.4754, 1.4570, 0.8296, 0.7154, 1.0605],\n",
            "        [0.4753, 0.8434, 0.8296, 0.4937, 0.3474, 0.6565],\n",
            "        [0.4576, 0.7070, 0.7154, 0.3474, 0.6654, 0.2935],\n",
            "        [0.6310, 1.0865, 1.0605, 0.6565, 0.2935, 0.9450]])\n"
          ]
        }
      ]
    },
    {
      "cell_type": "code",
      "source": [
        "# now normalize\n",
        "attn_weights = torch.softmax(attn_scores, dim=1)\n",
        "print(attn_weights)"
      ],
      "metadata": {
        "colab": {
          "base_uri": "https://localhost:8080/"
        },
        "id": "ojBTVAI5NqNp",
        "outputId": "3e06180a-8083-445a-a303-3811b0dcf392"
      },
      "execution_count": 18,
      "outputs": [
        {
          "output_type": "stream",
          "name": "stdout",
          "text": [
            "tensor([[0.2098, 0.2006, 0.1981, 0.1242, 0.1220, 0.1452],\n",
            "        [0.1385, 0.2379, 0.2333, 0.1240, 0.1082, 0.1581],\n",
            "        [0.1390, 0.2369, 0.2326, 0.1242, 0.1108, 0.1565],\n",
            "        [0.1435, 0.2074, 0.2046, 0.1462, 0.1263, 0.1720],\n",
            "        [0.1526, 0.1958, 0.1975, 0.1367, 0.1879, 0.1295],\n",
            "        [0.1385, 0.2184, 0.2128, 0.1420, 0.0988, 0.1896]])\n"
          ]
        }
      ]
    },
    {
      "cell_type": "code",
      "source": [
        "# now calculate context vectors\n",
        "all_context_vectors = attn_weights @ inputs\n",
        "print(all_context_vectors)"
      ],
      "metadata": {
        "colab": {
          "base_uri": "https://localhost:8080/"
        },
        "id": "O6avb3xhNxXq",
        "outputId": "091b9930-e052-48a2-a2d1-c2947134aeed"
      },
      "execution_count": 19,
      "outputs": [
        {
          "output_type": "stream",
          "name": "stdout",
          "text": [
            "tensor([[0.4421, 0.5931, 0.5790],\n",
            "        [0.4419, 0.6515, 0.5683],\n",
            "        [0.4431, 0.6496, 0.5671],\n",
            "        [0.4304, 0.6298, 0.5510],\n",
            "        [0.4671, 0.5910, 0.5266],\n",
            "        [0.4177, 0.6503, 0.5645]])\n"
          ]
        }
      ]
    },
    {
      "cell_type": "markdown",
      "source": [
        "# Implementing self-attention with trainable weights\n",
        "There are only slight differences compared to the basic attention mechanism introduced earlier:\n",
        "- The most notable difference is the introduction of weight matrices that are updated during model training\n",
        "- These trainable weight matrices are crucial so that the model (specifically, the attention module inside the model) can learn to produce \"good\" context vectors\n"
      ],
      "metadata": {
        "id": "ei-dkcLjPZc5"
      }
    },
    {
      "cell_type": "code",
      "source": [
        "# we need 3 weight matrices K,Q,V -  these 3 matrices project the embedded input\n",
        "# tokens into K;Q;V Vectors"
      ],
      "metadata": {
        "id": "oxOf_j1FOHqA"
      },
      "execution_count": 21,
      "outputs": []
    },
    {
      "cell_type": "code",
      "source": [
        "print(inputs)"
      ],
      "metadata": {
        "colab": {
          "base_uri": "https://localhost:8080/"
        },
        "id": "j64axt5dUP6r",
        "outputId": "48049fd5-4e12-4854-beff-3ee723c05e24"
      },
      "execution_count": 30,
      "outputs": [
        {
          "output_type": "stream",
          "name": "stdout",
          "text": [
            "tensor([[0.4300, 0.1500, 0.8900],\n",
            "        [0.5500, 0.8700, 0.6600],\n",
            "        [0.5700, 0.8500, 0.6400],\n",
            "        [0.2200, 0.5800, 0.3300],\n",
            "        [0.7700, 0.2500, 0.1000],\n",
            "        [0.0500, 0.8000, 0.5500]])\n"
          ]
        }
      ]
    },
    {
      "cell_type": "code",
      "source": [
        "x_2 = inputs[1]\n",
        "print(x_2.shape)\n",
        "d_in = inputs.shape[1]\n",
        "print(\"input dim:\",d_in)\n",
        "d_out = 2"
      ],
      "metadata": {
        "colab": {
          "base_uri": "https://localhost:8080/"
        },
        "id": "9xLg2_WESUeQ",
        "outputId": "82ebf621-a2ef-47a2-c24b-ae91098d0efc"
      },
      "execution_count": 24,
      "outputs": [
        {
          "output_type": "stream",
          "name": "stdout",
          "text": [
            "torch.Size([3])\n",
            "input dim: 3\n"
          ]
        }
      ]
    },
    {
      "cell_type": "code",
      "source": [
        "# initialize the 3 weight matrices\n",
        "torch.manual_seed(123)\n",
        "w_query = torch.nn.Parameter(torch.randn(d_in, d_out),requires_grad=False)\n",
        "w_key = torch.nn.Parameter(torch.randn(d_in, d_out),requires_grad=False)\n",
        "w_value = torch.nn.Parameter(torch.randn(d_in, d_out),requires_grad=False)"
      ],
      "metadata": {
        "id": "W1UuqMMcSiPK"
      },
      "execution_count": 27,
      "outputs": []
    },
    {
      "cell_type": "code",
      "source": [
        "query_2 = x_2 @ w_query # _2 because it's with respect to the 2nd input element\n",
        "key_2 = x_2 @ w_key\n",
        "value_2 = x_2 @ w_value\n",
        "print(\"query:\",query_2)\n",
        "print(\"key:\",key_2)"
      ],
      "metadata": {
        "colab": {
          "base_uri": "https://localhost:8080/"
        },
        "id": "W3q9Q4QZTti-",
        "outputId": "f3522791-04db-42b7-9721-4a6dff164978"
      },
      "execution_count": 29,
      "outputs": [
        {
          "output_type": "stream",
          "name": "stdout",
          "text": [
            "query: tensor([-1.1729, -0.0048])\n",
            "key: tensor([-0.1142, -0.7676])\n"
          ]
        }
      ]
    },
    {
      "cell_type": "code",
      "source": [
        "keys = inputs @ w_key\n",
        "values = inputs @ w_value\n",
        "print(\"shape of keys:\",keys.shape)\n",
        "print(\"shape of values:\",values.shape)"
      ],
      "metadata": {
        "colab": {
          "base_uri": "https://localhost:8080/"
        },
        "id": "J8ulKiEFTzNh",
        "outputId": "7f0a3b80-8b0f-4def-ffde-5150dd4a5e5e"
      },
      "execution_count": 31,
      "outputs": [
        {
          "output_type": "stream",
          "name": "stdout",
          "text": [
            "shape of keys: torch.Size([6, 2])\n",
            "shape of values: torch.Size([6, 2])\n"
          ]
        }
      ]
    },
    {
      "cell_type": "code",
      "source": [
        "# step 2, we compute the unnormalized attention scores by computing the dot\n",
        "#product between the query and each key vector:\n",
        "\n",
        "keys_2 = keys[1]\n",
        "print(\"keys2:\",keys_2)\n",
        "print(\"query2:\",query_2)\n",
        "attn_score_22 = torch.dot(query_2, keys_2)\n",
        "print(\"attention score:\",attn_score_22)"
      ],
      "metadata": {
        "colab": {
          "base_uri": "https://localhost:8080/"
        },
        "id": "2kNL1yVPUrKe",
        "outputId": "1c21e324-4fc8-4acf-aeea-b44109dfcf59"
      },
      "execution_count": 35,
      "outputs": [
        {
          "output_type": "stream",
          "name": "stdout",
          "text": [
            "keys2: tensor([-0.1142, -0.7676])\n",
            "query2: tensor([-1.1729, -0.0048])\n",
            "attention score: tensor(0.1376)\n"
          ]
        }
      ]
    },
    {
      "cell_type": "code",
      "source": [
        "attn_scores_2 = query_2 @ keys.T\n",
        "print(attn_scores_2)"
      ],
      "metadata": {
        "colab": {
          "base_uri": "https://localhost:8080/"
        },
        "id": "gjd2VAuyV7Bf",
        "outputId": "7aa61f7b-caf9-4e20-ff0a-024a58311b17"
      },
      "execution_count": 33,
      "outputs": [
        {
          "output_type": "stream",
          "name": "stdout",
          "text": [
            "tensor([ 0.2172,  0.1376,  0.1730, -0.0491,  0.7616, -0.3809])\n"
          ]
        }
      ]
    },
    {
      "cell_type": "code",
      "source": [
        "# compute attention weights\n",
        "d_k = keys.shape[1]\n",
        "attn_weights_2 = torch.softmax(attn_scores_2 / d_k**0.5, dim=-1)\n",
        "print(attn_weights_2)"
      ],
      "metadata": {
        "colab": {
          "base_uri": "https://localhost:8080/"
        },
        "id": "D_R-KHOUWDwy",
        "outputId": "5be6e75b-b873-403c-d8a6-5c155523a36c"
      },
      "execution_count": 37,
      "outputs": [
        {
          "output_type": "stream",
          "name": "stdout",
          "text": [
            "tensor([0.1704, 0.1611, 0.1652, 0.1412, 0.2505, 0.1117])\n"
          ]
        }
      ]
    },
    {
      "cell_type": "code",
      "source": [
        "# step 4, we now compute the context vector for input query vector 2:\n",
        "\n",
        "context_vec_2 = attn_weights_2 @ values\n",
        "print(context_vec_2)\n",
        "\n"
      ],
      "metadata": {
        "colab": {
          "base_uri": "https://localhost:8080/"
        },
        "id": "apcvn6zsYUrO",
        "outputId": "bac739c0-79c4-4d24-aef0-f96b6de820a4"
      },
      "execution_count": 38,
      "outputs": [
        {
          "output_type": "stream",
          "name": "stdout",
          "text": [
            "tensor([0.2854, 0.4081])\n"
          ]
        }
      ]
    },
    {
      "cell_type": "markdown",
      "source": [
        "## Self attention class\n"
      ],
      "metadata": {
        "id": "P-_LMZ0EasEc"
      }
    },
    {
      "cell_type": "code",
      "source": [
        "import torch.nn as nn\n",
        "class SelfAttention_V1(nn.Module):\n",
        "  def __init__(self, d_in, d_out):\n",
        "    super().__init__()\n",
        "    self.w_query = nn.Parameter(torch.rand(d_in, d_out))\n",
        "    self.w_key = nn.Parameter(torch.rand(d_in, d_out))\n",
        "    self.w_value = nn.Parameter(torch.rand(d_in, d_out))\n",
        "\n",
        "  def forward(self, x):\n",
        "    keys = x @ self.w_key\n",
        "    values = x @ self.w_value\n",
        "    queries = x @ self.w_query\n",
        "    attn_scores = queries @ keys.T # omega\n",
        "    attn_weights = torch.softmax(\n",
        "            attn_scores / keys.shape[-1]**0.5, dim=-1\n",
        "        )\n",
        "\n",
        "    context_vec = attn_weights @ values\n",
        "    return context_vec\n",
        "\n",
        "torch.manual_seed(123)\n",
        "self_attn_v1 = SelfAttention_V1(d_in, d_out)\n",
        "print(self_attn_v1(inputs))"
      ],
      "metadata": {
        "colab": {
          "base_uri": "https://localhost:8080/"
        },
        "id": "SkF9PQexanMc",
        "outputId": "19f77bed-1d68-4f20-e22c-b5fe151a0309"
      },
      "execution_count": 41,
      "outputs": [
        {
          "output_type": "stream",
          "name": "stdout",
          "text": [
            "tensor([[0.2996, 0.8053],\n",
            "        [0.3061, 0.8210],\n",
            "        [0.3058, 0.8203],\n",
            "        [0.2948, 0.7939],\n",
            "        [0.2927, 0.7891],\n",
            "        [0.2990, 0.8040]], grad_fn=<MmBackward0>)\n"
          ]
        }
      ]
    },
    {
      "cell_type": "code",
      "source": [
        "# new class using pytorch linear layer\n",
        "class SelfAttention_V2(nn.Module):\n",
        "  def __init__(self, d_in, d_out,qkv_bias=False):\n",
        "    super().__init__()\n",
        "    self.linear_k = nn.Linear(d_in, d_out, bias=qkv_bias)\n",
        "    self.linear_v = nn.Linear(d_in, d_out, bias=qkv_bias)\n",
        "    self.linear_q = nn.Linear(d_in, d_out, bias=qkv_bias)\n",
        "\n",
        "  def forward(self, x):\n",
        "    keys = self.linear_k(x)\n",
        "    values = self.linear_v(x)\n",
        "    queries = self.linear_q(x)\n",
        "    attn_scores = queries @ keys.T # omega\n",
        "    attn_weights = torch.softmax(\n",
        "            attn_scores / keys.shape[-1]**0.5, dim=-1\n",
        "        )\n",
        "\n",
        "    context_vec = attn_weights @ values\n",
        "    return context_vec\n",
        "\n",
        "torch.manual_seed(789)\n",
        "self_attn_v2 = SelfAttention_V2(d_in, d_out)\n",
        "print(self_attn_v2(inputs))"
      ],
      "metadata": {
        "colab": {
          "base_uri": "https://localhost:8080/"
        },
        "id": "mw-NQgvEbhLY",
        "outputId": "450a0370-8679-4a6c-a146-b847819733a2"
      },
      "execution_count": 45,
      "outputs": [
        {
          "output_type": "stream",
          "name": "stdout",
          "text": [
            "tensor([[ 0.0266, -0.3275],\n",
            "        [ 0.0271, -0.3267],\n",
            "        [ 0.0272, -0.3268],\n",
            "        [ 0.0264, -0.3277],\n",
            "        [ 0.0275, -0.3294],\n",
            "        [ 0.0261, -0.3266]], grad_fn=<MmBackward0>)\n"
          ]
        }
      ]
    },
    {
      "cell_type": "code",
      "source": [],
      "metadata": {
        "id": "3k6oU7sfcXV9"
      },
      "execution_count": null,
      "outputs": []
    }
  ]
}