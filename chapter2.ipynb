{
  "nbformat": 4,
  "nbformat_minor": 0,
  "metadata": {
    "colab": {
      "provenance": [],
      "authorship_tag": "ABX9TyOLBFwTsPbfoXxGz0JbaI17",
      "include_colab_link": true
    },
    "kernelspec": {
      "name": "python3",
      "display_name": "Python 3"
    },
    "language_info": {
      "name": "python"
    }
  },
  "cells": [
    {
      "cell_type": "markdown",
      "metadata": {
        "id": "view-in-github",
        "colab_type": "text"
      },
      "source": [
        "<a href=\"https://colab.research.google.com/github/space4VV/LLM_trailblazr/blob/main/chapter2.ipynb\" target=\"_parent\"><img src=\"https://colab.research.google.com/assets/colab-badge.svg\" alt=\"Open In Colab\"/></a>"
      ]
    },
    {
      "cell_type": "code",
      "execution_count": 4,
      "metadata": {
        "id": "C-WKDut4AHG4"
      },
      "outputs": [],
      "source": [
        "import os\n",
        "import urllib.request\n",
        "if not os.path.exists(\"the_verdict.txt\"):\n",
        "  url = (\"https://raw.githubusercontent.com/rasbt/\"\n",
        "           \"LLMs-from-scratch/main/ch02/01_main-chapter-code/\"\n",
        "           \"the-verdict.txt\")\n",
        "  file_path = \"the_verdict.txt\"\n",
        "\n",
        "  urllib.request.urlretrieve(url,file_path)\n",
        ""
      ]
    },
    {
      "cell_type": "code",
      "source": [
        "with open(\"the_verdict.txt\",\"r\",encoding=\"utf-8\") as f:\n",
        "  r_text = f.read()"
      ],
      "metadata": {
        "id": "bRoewqYdMoU7"
      },
      "execution_count": 5,
      "outputs": []
    },
    {
      "cell_type": "code",
      "source": [
        "r_text[0:500]"
      ],
      "metadata": {
        "colab": {
          "base_uri": "https://localhost:8080/",
          "height": 146
        },
        "id": "GLUwsne6M6Ah",
        "outputId": "c5d9d6a3-3bef-4d2b-97fb-81cee89411d8"
      },
      "execution_count": 7,
      "outputs": [
        {
          "output_type": "execute_result",
          "data": {
            "text/plain": [
              "'I HAD always thought Jack Gisburn rather a cheap genius--though a good fellow enough--so it was no great surprise to me to hear that, in the height of his glory, he had dropped his painting, married a rich widow, and established himself in a villa on the Riviera. (Though I rather thought it would have been Rome or Florence.)\\n\\n\"The height of his glory\"--that was what the women called it. I can hear Mrs. Gideon Thwing--his last Chicago sitter--deploring his unaccountable abdication. \"Of course it\\''"
            ],
            "application/vnd.google.colaboratory.intrinsic+json": {
              "type": "string"
            }
          },
          "metadata": {},
          "execution_count": 7
        }
      ]
    },
    {
      "cell_type": "code",
      "source": [
        "#total no:characters\n",
        "len(r_text)"
      ],
      "metadata": {
        "colab": {
          "base_uri": "https://localhost:8080/"
        },
        "id": "XZR259eKM7WB",
        "outputId": "f5d1bef7-0f4e-4199-f4ce-ea5f0e717576"
      },
      "execution_count": 9,
      "outputs": [
        {
          "output_type": "execute_result",
          "data": {
            "text/plain": [
              "20479"
            ]
          },
          "metadata": {},
          "execution_count": 9
        }
      ]
    },
    {
      "cell_type": "markdown",
      "source": [
        "## Simple tokenizer"
      ],
      "metadata": {
        "id": "3sXgirhePBDF"
      }
    },
    {
      "cell_type": "code",
      "source": [
        "import re\n",
        "# some random text\n",
        "text = \"Hello i am vishnu, and i am learning LLM!\"\n",
        "result = re.split(r'\\s',text)\n",
        "print(result)\n",
        "# the pblm is here we are not splitting the punctuations"
      ],
      "metadata": {
        "colab": {
          "base_uri": "https://localhost:8080/"
        },
        "id": "Fe8tdUv2Occ9",
        "outputId": "3997594b-99a5-4b7f-9112-bc5d565a5c18"
      },
      "execution_count": 13,
      "outputs": [
        {
          "output_type": "stream",
          "name": "stdout",
          "text": [
            "['Hello', 'i', 'am', 'vishnu,', 'and', 'i', 'am', 'learning', 'LLM!']\n"
          ]
        }
      ]
    },
    {
      "cell_type": "code",
      "source": [
        "result = re.split(r'([,.]|\\s)', text) ()\n",
        "print(result)\n",
        "# we have empty strings here"
      ],
      "metadata": {
        "colab": {
          "base_uri": "https://localhost:8080/"
        },
        "id": "YUqS21MtO_DT",
        "outputId": "e78d7c4a-18b7-47d4-da41-f8a66d61bd72"
      },
      "execution_count": 14,
      "outputs": [
        {
          "output_type": "stream",
          "name": "stdout",
          "text": [
            "['Hello', ' ', 'i', ' ', 'am', ' ', 'vishnu', ',', '', ' ', 'and', ' ', 'i', ' ', 'am', ' ', 'learning', ' ', 'LLM!']\n"
          ]
        }
      ]
    },
    {
      "cell_type": "code",
      "source": [
        "result= [tok for tok in result if tok.strip()]\n",
        "print(result)"
      ],
      "metadata": {
        "colab": {
          "base_uri": "https://localhost:8080/"
        },
        "id": "sHzbqOJWRFdC",
        "outputId": "ac4a5bc6-7017-4960-a82a-67a8cf32a6a0"
      },
      "execution_count": 15,
      "outputs": [
        {
          "output_type": "stream",
          "name": "stdout",
          "text": [
            "['Hello', 'i', 'am', 'vishnu', ',', 'and', 'i', 'am', 'learning', 'LLM!']\n"
          ]
        }
      ]
    },
    {
      "cell_type": "code",
      "source": [
        "# nice lets add other punctuations too\n",
        "def simple_tokenizer(text):\n",
        "  result = re.split(r'([,.:;?_!\"()\\']|--|\\s)', text)\n",
        "  result = [tok for tok in result if tok.strip()]\n",
        "  return result\n",
        "\n",
        "result = simple_tokenizer(text)\n",
        "print(result)"
      ],
      "metadata": {
        "colab": {
          "base_uri": "https://localhost:8080/"
        },
        "id": "xY9s-6EVRiMm",
        "outputId": "88002d85-8678-45cc-c5c6-9edee806a58d"
      },
      "execution_count": 17,
      "outputs": [
        {
          "output_type": "stream",
          "name": "stdout",
          "text": [
            "['Hello', 'i', 'am', 'vishnu', ',', 'and', 'i', 'am', 'learning', 'LLM', '!']\n"
          ]
        }
      ]
    },
    {
      "cell_type": "code",
      "source": [
        "# lets do with the raw text\n",
        "preprocessed = simple_tokenizer(r_text)\n",
        "print(preprocessed[0:100])"
      ],
      "metadata": {
        "colab": {
          "base_uri": "https://localhost:8080/"
        },
        "id": "HO5Vc7tKRq_6",
        "outputId": "ca06baf5-6ed6-4218-fe81-4a3cfbc04aa9"
      },
      "execution_count": 18,
      "outputs": [
        {
          "output_type": "stream",
          "name": "stdout",
          "text": [
            "['I', 'HAD', 'always', 'thought', 'Jack', 'Gisburn', 'rather', 'a', 'cheap', 'genius', '--', 'though', 'a', 'good', 'fellow', 'enough', '--', 'so', 'it', 'was', 'no', 'great', 'surprise', 'to', 'me', 'to', 'hear', 'that', ',', 'in', 'the', 'height', 'of', 'his', 'glory', ',', 'he', 'had', 'dropped', 'his', 'painting', ',', 'married', 'a', 'rich', 'widow', ',', 'and', 'established', 'himself', 'in', 'a', 'villa', 'on', 'the', 'Riviera', '.', '(', 'Though', 'I', 'rather', 'thought', 'it', 'would', 'have', 'been', 'Rome', 'or', 'Florence', '.', ')', '\"', 'The', 'height', 'of', 'his', 'glory', '\"', '--', 'that', 'was', 'what', 'the', 'women', 'called', 'it', '.', 'I', 'can', 'hear', 'Mrs', '.', 'Gideon', 'Thwing', '--', 'his', 'last', 'Chicago', 'sitter', '--']\n"
          ]
        }
      ]
    },
    {
      "cell_type": "code",
      "source": [
        "print(len(preprocessed))"
      ],
      "metadata": {
        "colab": {
          "base_uri": "https://localhost:8080/"
        },
        "id": "fwVt1DLbW5vw",
        "outputId": "ceda8521-7f4e-466d-fc2a-18d423be7ccc"
      },
      "execution_count": 19,
      "outputs": [
        {
          "output_type": "stream",
          "name": "stdout",
          "text": [
            "4690\n"
          ]
        }
      ]
    },
    {
      "cell_type": "code",
      "source": [],
      "metadata": {
        "id": "fz4wPRX9W9pX"
      },
      "execution_count": null,
      "outputs": []
    }
  ]
}